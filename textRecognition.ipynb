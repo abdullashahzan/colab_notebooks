{
  "nbformat": 4,
  "nbformat_minor": 0,
  "metadata": {
    "colab": {
      "provenance": [],
      "authorship_tag": "ABX9TyNL3fEwROcfSCdXTS7OZtFZ",
      "include_colab_link": true
    },
    "kernelspec": {
      "name": "python3",
      "display_name": "Python 3"
    },
    "language_info": {
      "name": "python"
    }
  },
  "cells": [
    {
      "cell_type": "markdown",
      "metadata": {
        "id": "view-in-github",
        "colab_type": "text"
      },
      "source": [
        "<a href=\"https://colab.research.google.com/github/abdullashahzan/colab_notebooks/blob/main/textRecognition.ipynb\" target=\"_parent\"><img src=\"https://colab.research.google.com/assets/colab-badge.svg\" alt=\"Open In Colab\"/></a>"
      ]
    },
    {
      "cell_type": "markdown",
      "source": [
        "# **Text Recognition Algortihms (Using Conv2D and Dense)**"
      ],
      "metadata": {
        "id": "_ZMiEGgzS0hs"
      }
    },
    {
      "cell_type": "markdown",
      "source": [
        "# Using Dense layer"
      ],
      "metadata": {
        "id": "cMsBraJuS-KL"
      }
    },
    {
      "cell_type": "code",
      "execution_count": null,
      "metadata": {
        "id": "IgJ2Df4ESv1r"
      },
      "outputs": [],
      "source": [
        "import tensorflow as tf\n",
        "import matplotlib.pyplot as plt\n",
        "import numpy as np\n",
        "from tensorflow.keras.datasets import mnist\n",
        "from sklearn.model_selection import train_test_split"
      ]
    },
    {
      "cell_type": "code",
      "source": [
        "#downloading the dataset\n",
        "(X, y), (X_test, y_test) = mnist.load_data()\n",
        "X, X_val, y, y_val = train_test_split(X, y, test_size=0.2)"
      ],
      "metadata": {
        "id": "ir5FSGDATE3v"
      },
      "execution_count": null,
      "outputs": []
    },
    {
      "cell_type": "code",
      "source": [
        "model = tf.keras.Sequential([\n",
        "    tf.keras.layers.Rescaling(1./255),\n",
        "    tf.keras.layers.Flatten(),\n",
        "    tf.keras.layers.Dense(64, activation='relu'),\n",
        "    tf.keras.layers.Dense(10, activation='softmax')\n",
        "])"
      ],
      "metadata": {
        "id": "8WAlKeCETGxA"
      },
      "execution_count": null,
      "outputs": []
    },
    {
      "cell_type": "code",
      "source": [
        "model.compile(loss='sparse_categorical_crossentropy', optimizer='adam', metrics=['accuracy'])"
      ],
      "metadata": {
        "id": "CPOJY0XuTJPq"
      },
      "execution_count": null,
      "outputs": []
    },
    {
      "cell_type": "code",
      "source": [
        "model.fit(X, y, epochs=1, batch_size=25, validation_data=(X_val, y_val))"
      ],
      "metadata": {
        "id": "sDNLx3kPTL8G"
      },
      "execution_count": null,
      "outputs": []
    },
    {
      "cell_type": "code",
      "source": [
        "y_predicted = model.predict(X_test)"
      ],
      "metadata": {
        "id": "ZzzBsvWzTONI"
      },
      "execution_count": null,
      "outputs": []
    },
    {
      "cell_type": "code",
      "source": [
        "num_list = [0, 1, 2, 3, 4, 5, 6, 7, 8, 9]\n",
        "import random\n",
        "random_number = random.randint(0, 10000)\n",
        "plt.imshow(X_test[random_number])\n",
        "print(num_list[np.argmax(y_predicted[random_number])])"
      ],
      "metadata": {
        "id": "_kNS3yBMTP7g"
      },
      "execution_count": null,
      "outputs": []
    },
    {
      "cell_type": "markdown",
      "source": [
        "# Using Conv2D layer"
      ],
      "metadata": {
        "id": "DhXrTzKITR9b"
      }
    },
    {
      "cell_type": "code",
      "source": [
        "import tensorflow as tf\n",
        "import matplotlib.pyplot as plt\n",
        "import numpy as np"
      ],
      "metadata": {
        "id": "ku2hoK3zTUqz"
      },
      "execution_count": null,
      "outputs": []
    },
    {
      "cell_type": "code",
      "source": [
        "#downloading the dataset\n",
        "(X, y), (X_test, y_test) = tf.keras.datasets.mnist.load_data()"
      ],
      "metadata": {
        "id": "vvPzFBHyTWiK"
      },
      "execution_count": null,
      "outputs": []
    },
    {
      "cell_type": "code",
      "source": [
        "# An image is a 4D array (batch_size, x_value, y_value, rgb) we do the following preprocessing to convert 3d array to 4d array\n",
        "X = X.reshape((60000, 28, 28, 1))\n",
        "X_test = X_test.reshape((10000, 28, 28, 1))\n",
        "y = y.reshape((60000, 1))\n",
        "y_test = y_test.reshape(10000, 1)\n",
        "\n",
        "print(X.shape, y.shape)"
      ],
      "metadata": {
        "id": "cUSzoFJATYp3"
      },
      "execution_count": null,
      "outputs": []
    },
    {
      "cell_type": "code",
      "source": [
        "model = tf.keras.Sequential([\n",
        "    tf.keras.layers.Rescaling(1./255),\n",
        "\n",
        "    tf.keras.layers.Conv2D(32, 3, activation='relu'),\n",
        "    tf.keras.layers.MaxPooling2D(),\n",
        "\n",
        "    tf.keras.layers.Flatten(),\n",
        "\n",
        "    tf.keras.layers.Dense(128, activation='relu'),\n",
        "    tf.keras.layers.Dense(10, activation='softmax')\n",
        "])"
      ],
      "metadata": {
        "id": "1cCN-pRITaEe"
      },
      "execution_count": null,
      "outputs": []
    },
    {
      "cell_type": "code",
      "source": [
        "model.compile(loss='sparse_categorical_crossentropy', optimizer='adam', metrics=['accuracy'])"
      ],
      "metadata": {
        "id": "hWuGthPDTdgz"
      },
      "execution_count": null,
      "outputs": []
    },
    {
      "cell_type": "code",
      "source": [
        "model.fit(X, y, epochs=10, batch_size=25)"
      ],
      "metadata": {
        "id": "ISBqgUb5TfRq"
      },
      "execution_count": null,
      "outputs": []
    },
    {
      "cell_type": "code",
      "source": [
        "y_predicted = model.predict(X_test)"
      ],
      "metadata": {
        "id": "KYqX-R7CTg1I"
      },
      "execution_count": null,
      "outputs": []
    },
    {
      "cell_type": "code",
      "source": [
        "num_list = [0, 1, 2, 3, 4, 5, 6, 7, 8, 9]\n",
        "import random\n",
        "random_number = random.randint(0, 10000)\n",
        "plt.imshow(X_test[random_number])\n",
        "print(num_list[np.argmax(y_predicted[random_number])])"
      ],
      "metadata": {
        "id": "oUoKXb24TigQ"
      },
      "execution_count": null,
      "outputs": []
    }
  ]
}