{
  "nbformat": 4,
  "nbformat_minor": 0,
  "metadata": {
    "colab": {
      "provenance": [],
      "authorship_tag": "ABX9TyN/Hw2jUhWOqLVMYVjte60J",
      "include_colab_link": true
    },
    "kernelspec": {
      "name": "python3",
      "display_name": "Python 3"
    },
    "language_info": {
      "name": "python"
    }
  },
  "cells": [
    {
      "cell_type": "markdown",
      "metadata": {
        "id": "view-in-github",
        "colab_type": "text"
      },
      "source": [
        "<a href=\"https://colab.research.google.com/github/abdullashahzan/colab_notebooks/blob/main/generalAlgorithms.ipynb\" target=\"_parent\"><img src=\"https://colab.research.google.com/assets/colab-badge.svg\" alt=\"Open In Colab\"/></a>"
      ]
    },
    {
      "cell_type": "markdown",
      "source": [
        "# Pizza price predictor with tensorflow"
      ],
      "metadata": {
        "id": "-ELNbjNq_E8B"
      }
    },
    {
      "cell_type": "code",
      "source": [
        "import tensorflow as tf\n",
        "import numpy as np"
      ],
      "metadata": {
        "id": "HS7PQzZC7z1y"
      },
      "execution_count": null,
      "outputs": []
    },
    {
      "cell_type": "code",
      "execution_count": null,
      "metadata": {
        "id": "n20eZEwo5Zux"
      },
      "outputs": [],
      "source": [
        "# data = size\n",
        "X = np.array([\n",
        "    [12],\n",
        "    [14],\n",
        "    [10],\n",
        "    [9],\n",
        "    [15],\n",
        "    [19]\n",
        "])\n",
        "\n",
        "y = np.array([24, 28, 20, 18, 30, 38])"
      ]
    },
    {
      "cell_type": "code",
      "source": [
        "model = tf.keras.Sequential([\n",
        "    tf.keras.layers.Dense(32, activation='relu', input_shape=(1,)),\n",
        "    tf.keras.layers.Dense(1, activation='relu')\n",
        "])\n",
        "model.compile(optimizer='adam', loss='mean_squared_error')"
      ],
      "metadata": {
        "id": "vRGGvwl575XX"
      },
      "execution_count": null,
      "outputs": []
    },
    {
      "cell_type": "code",
      "source": [
        "model.fit(X, y, epochs=1000)"
      ],
      "metadata": {
        "id": "wEesTflY8tWg"
      },
      "execution_count": null,
      "outputs": []
    },
    {
      "cell_type": "code",
      "source": [
        "# Predict on new data\n",
        "new_data = np.array([[6], [17], [27], [100]])\n",
        "predictions = model.predict(new_data)\n",
        "print(predictions)"
      ],
      "metadata": {
        "colab": {
          "base_uri": "https://localhost:8080/"
        },
        "id": "LHJuuI0X89Jl",
        "outputId": "02310b31-b2ec-4fb1-d1be-9429f4d46d77"
      },
      "execution_count": null,
      "outputs": [
        {
          "output_type": "stream",
          "name": "stderr",
          "text": [
            "WARNING:tensorflow:5 out of the last 7 calls to <function Model.make_predict_function.<locals>.predict_function at 0x7f8375376700> triggered tf.function retracing. Tracing is expensive and the excessive number of tracings could be due to (1) creating @tf.function repeatedly in a loop, (2) passing tensors with different shapes, (3) passing Python objects instead of tensors. For (1), please define your @tf.function outside of the loop. For (2), @tf.function has reduce_retracing=True option that can avoid unnecessary retracing. For (3), please refer to https://www.tensorflow.org/guide/function#controlling_retracing and https://www.tensorflow.org/api_docs/python/tf/function for  more details.\n"
          ]
        },
        {
          "output_type": "stream",
          "name": "stdout",
          "text": [
            "1/1 [==============================] - 0s 40ms/step\n",
            "[[ 12.683228]\n",
            " [ 33.739723]\n",
            " [ 52.881996]\n",
            " [192.62059 ]]\n"
          ]
        }
      ]
    },
    {
      "cell_type": "markdown",
      "source": [],
      "metadata": {
        "id": "AXra2zOD_QHc"
      }
    },
    {
      "cell_type": "markdown",
      "source": [
        "# Ice cream suggester with tensorflow"
      ],
      "metadata": {
        "id": "7ZM4piM3CI7c"
      }
    },
    {
      "cell_type": "code",
      "source": [
        "import tensorflow as tf\n",
        "import numpy as np"
      ],
      "metadata": {
        "id": "aJCUrUclCWz5"
      },
      "execution_count": null,
      "outputs": []
    },
    {
      "cell_type": "code",
      "source": [
        "# data = is adult?, is diabetic?, is sick?\n",
        "data_X = np.array([\n",
        "    [1,1,1],\n",
        "    [1,1,0],\n",
        "    [1,0,0],\n",
        "    [0,0,0],\n",
        "    [0,0,1],\n",
        "    [0,1,1],\n",
        "    [0,1,0],\n",
        "    [1,0,1]\n",
        "])\n",
        "data_y = np.array([0, 0, 1, 1, 1, 0, 1, 0])"
      ],
      "metadata": {
        "id": "2I0XKA3ACbA2"
      },
      "execution_count": null,
      "outputs": []
    },
    {
      "cell_type": "code",
      "source": [
        "model = tf.keras.Sequential([\n",
        "    tf.keras.layers.Dense(32, input_shape=(3,), activation='relu'),\n",
        "    tf.keras.layers.Dense(1, activation='sigmoid')\n",
        "])\n",
        "model.compile(optimizer='adam', loss='binary_crossentropy', metrics=['accuracy']) # what if we use mean_squared_error"
      ],
      "metadata": {
        "id": "dzsIUhp2DuQR"
      },
      "execution_count": null,
      "outputs": []
    },
    {
      "cell_type": "code",
      "source": [
        "model.fit(data_X, data_y, epochs=1)"
      ],
      "metadata": {
        "id": "FSObPP_cEFHq",
        "colab": {
          "base_uri": "https://localhost:8080/"
        },
        "outputId": "5f1aa391-eb93-4218-aa08-35c3f8605970"
      },
      "execution_count": null,
      "outputs": [
        {
          "output_type": "stream",
          "name": "stdout",
          "text": [
            "1/1 [==============================] - 1s 623ms/step - loss: 0.6774 - accuracy: 0.5000\n"
          ]
        },
        {
          "output_type": "execute_result",
          "data": {
            "text/plain": [
              "<keras.callbacks.History at 0x7f48dd73c9d0>"
            ]
          },
          "metadata": {},
          "execution_count": 13
        }
      ]
    },
    {
      "cell_type": "code",
      "source": [
        "new_data = np.array([\n",
        "    [0,1,0],\n",
        "    [1,0,0]\n",
        "])\n",
        "prediction = model.predict(new_data)\n",
        "threshold = 0.5\n",
        "\n",
        "readable_list = []\n",
        "\n",
        "for i in prediction:\n",
        "  if i[0] >= 0.5:\n",
        "    readable_list.append(\"Will eat ice cream\")\n",
        "  else:\n",
        "    readable_list.append(\"Will not eat ice cream\")\n",
        "\n",
        "print(readable_list)"
      ],
      "metadata": {
        "colab": {
          "base_uri": "https://localhost:8080/"
        },
        "id": "jBnM5fegEO3l",
        "outputId": "b54dcfe5-00bb-4147-f3b6-3d170182ee5a"
      },
      "execution_count": null,
      "outputs": [
        {
          "output_type": "stream",
          "name": "stdout",
          "text": [
            "1/1 [==============================] - 0s 17ms/step\n",
            "['Will eat ice cream', 'Will not eat ice cream']\n"
          ]
        }
      ]
    },
    {
      "cell_type": "markdown",
      "source": [
        "# Working with keras dataset"
      ],
      "metadata": {
        "id": "pZsbUFZMGHja"
      }
    },
    {
      "cell_type": "code",
      "source": [
        "import tensorflow as tf\n",
        "import numpy as np\n",
        "import matplotlib.pyplot as plt"
      ],
      "metadata": {
        "id": "OfAUQJtuGL7I"
      },
      "execution_count": null,
      "outputs": []
    },
    {
      "cell_type": "code",
      "source": [
        "from tensorflow.keras.datasets import fashion_mnist"
      ],
      "metadata": {
        "id": "lEWP21QbGR08"
      },
      "execution_count": null,
      "outputs": []
    },
    {
      "cell_type": "code",
      "source": [
        "(X_train, y_train), (X_test, y_test) = fashion_mnist.load_data()\n",
        "fashion_objects = [\n",
        "    'T-shirt/top',\n",
        "    'Trouser',\n",
        "    'Pullover',\n",
        "    'Dress',\n",
        "    'Coat',\n",
        "    'Sandal',\n",
        "    'Shirt',\n",
        "    'Sneaker',\n",
        "    'Bag',\n",
        "    'Ankle boot'\n",
        "]"
      ],
      "metadata": {
        "id": "DUCL7ESTGk8P"
      },
      "execution_count": null,
      "outputs": []
    },
    {
      "cell_type": "code",
      "source": [
        "#looking at our data\n",
        "print(X_train.shape)\n",
        "print(y_train.shape)\n",
        "\n",
        "import random\n",
        "random_number = random.randint(0, 60000)\n",
        "plt.imshow(X_train[random_number])\n",
        "print(fashion_objects[y_train[random_number]])"
      ],
      "metadata": {
        "colab": {
          "base_uri": "https://localhost:8080/",
          "height": 482
        },
        "id": "23GS0DXXGvGa",
        "outputId": "008555e7-af73-4e05-a2b4-df76d5834f08"
      },
      "execution_count": null,
      "outputs": [
        {
          "output_type": "stream",
          "name": "stdout",
          "text": [
            "(60000, 28, 28)\n",
            "(60000,)\n",
            "Bag\n"
          ]
        },
        {
          "output_type": "display_data",
          "data": {
            "text/plain": [
              "<Figure size 640x480 with 1 Axes>"
            ],
            "image/png": "[encoded data removed]"
          },
          "metadata": {}
        }
      ]
    },
    {
      "cell_type": "code",
      "source": [
        "model = tf.keras.Sequential([\n",
        "    tf.keras.layers.Rescaling(1./255),\n",
        "    tf.keras.layers.Flatten(),\n",
        "\n",
        "    tf.keras.layers.Dense(128, activation='relu'),\n",
        "    tf.keras.layers.Dense(10, activation='softmax')\n",
        "])\n",
        "model.compile(optimizer='adam', loss='sparse_categorical_crossentropy', metrics=['accuracy'])"
      ],
      "metadata": {
        "id": "fogKtkhzIRai"
      },
      "execution_count": null,
      "outputs": []
    },
    {
      "cell_type": "code",
      "source": [
        "model.fit(X_train, y_train, epochs=1, batch_size=25)"
      ],
      "metadata": {
        "colab": {
          "base_uri": "https://localhost:8080/"
        },
        "id": "hQfM-YZZJFhb",
        "outputId": "3aadaca7-8973-4b66-caf6-5ef5df3fb775"
      },
      "execution_count": null,
      "outputs": [
        {
          "output_type": "stream",
          "name": "stdout",
          "text": [
            "2400/2400 [==============================] - 6s 2ms/step - loss: 0.4944 - accuracy: 0.8276\n"
          ]
        },
        {
          "output_type": "execute_result",
          "data": {
            "text/plain": [
              "<keras.callbacks.History at 0x7f8374e8b400>"
            ]
          },
          "metadata": {},
          "execution_count": 69
        }
      ]
    },
    {
      "cell_type": "code",
      "source": [
        "predictions = model.predict(X_test)"
      ],
      "metadata": {
        "colab": {
          "base_uri": "https://localhost:8080/"
        },
        "id": "2RxAevTIJ4ym",
        "outputId": "e8254326-a18c-4025-9f09-935ae194103d"
      },
      "execution_count": null,
      "outputs": [
        {
          "output_type": "stream",
          "name": "stdout",
          "text": [
            "313/313 [==============================] - 0s 1ms/step\n"
          ]
        }
      ]
    },
    {
      "cell_type": "code",
      "source": [
        "random_number = random.randint(0, 10000)\n",
        "plt.imshow(X_test[random_number])\n",
        "print(fashion_objects[np.argmax(predictions[random_number])])"
      ],
      "metadata": {
        "colab": {
          "base_uri": "https://localhost:8080/",
          "height": 447
        },
        "id": "FCYyzOcFJ8ip",
        "outputId": "802b189f-67c0-45e3-cf4a-1a5d22ce6f06"
      },
      "execution_count": null,
      "outputs": [
        {
          "output_type": "stream",
          "name": "stdout",
          "text": [
            "Sneaker\n"
          ]
        },
        {
          "output_type": "display_data",
          "data": {
            "text/plain": [
              "<Figure size 640x480 with 1 Axes>"
            ],
            "image/png": "[encoded data removed]"
          },
          "metadata": {}
        }
      ]
    }
  ]
}