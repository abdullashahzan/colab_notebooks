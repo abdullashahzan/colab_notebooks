{
  "nbformat": 4,
  "nbformat_minor": 0,
  "metadata": {
    "colab": {
      "provenance": [],
      "collapsed_sections": [
        "kT8ty4wJR6w0",
        "epClXpzdReuH",
        "oKHyoY0oRx96",
        "XTdum-WURoYV",
        "AYVVpTMrQrxc",
        "TfwGFgeEQ6OA",
        "T7bMpfmURIU_",
        "jsyzIKdgRTfW"
      ],
      "authorship_tag": "ABX9TyNVzLCQi2ysuTrVHQbdkotM",
      "include_colab_link": true
    },
    "kernelspec": {
      "name": "python3",
      "display_name": "Python 3"
    },
    "language_info": {
      "name": "python"
    }
  },
  "cells": [
    {
      "cell_type": "markdown",
      "metadata": {
        "id": "view-in-github",
        "colab_type": "text"
      },
      "source": [
        "<a href=\"https://colab.research.google.com/github/abdullashahzan/colab_notebooks/blob/main/maze.ipynb\" target=\"_parent\"><img src=\"https://colab.research.google.com/assets/colab-badge.svg\" alt=\"Open In Colab\"/></a>"
      ]
    },
    {
      "cell_type": "markdown",
      "source": [
        "# **Libraries**"
      ],
      "metadata": {
        "id": "kT8ty4wJR6w0"
      }
    },
    {
      "cell_type": "code",
      "source": [
        "import random"
      ],
      "metadata": {
        "id": "Z_pgwnqo9r7S"
      },
      "execution_count": null,
      "outputs": []
    },
    {
      "cell_type": "markdown",
      "source": [
        "# **Global variables**"
      ],
      "metadata": {
        "id": "epClXpzdReuH"
      }
    },
    {
      "cell_type": "code",
      "source": [
        "maze = [\n",
        "    [0,0,0,0,0,0,0,0,0,0,0,0,0,0,0,0,0,0],\n",
        "    [0,2,1,0,0,0,0,0,1,1,1,1,1,1,1,0,0,0],\n",
        "    [0,0,1,0,0,0,0,0,1,0,0,0,0,0,1,3,0,0],\n",
        "    [0,0,1,0,0,0,1,1,1,1,1,0,0,0,0,1,1,0],\n",
        "    [0,0,1,0,0,0,1,0,0,0,1,0,0,0,0,1,0,0],\n",
        "    [0,0,1,0,0,0,1,1,1,0,1,1,1,1,1,1,0,0],\n",
        "    [0,0,1,1,1,1,1,0,1,0,0,1,0,0,0,0,0,0],\n",
        "    [0,0,0,1,0,0,0,0,1,1,1,1,0,0,0,0,0,0],\n",
        "    [0,0,0,0,0,0,0,0,0,0,0,0,0,0,0,0,0,0]\n",
        "]\n",
        "\n",
        "destination = False"
      ],
      "metadata": {
        "id": "ttgB7mP_91h9"
      },
      "execution_count": null,
      "outputs": []
    },
    {
      "cell_type": "markdown",
      "source": [
        "# **Codes to show the maze graphically**"
      ],
      "metadata": {
        "id": "oKHyoY0oRx96"
      }
    },
    {
      "cell_type": "code",
      "source": [
        "import numpy as np\n",
        "import matplotlib.pyplot as plt\n",
        "\n",
        "array = np.array(maze)\n",
        "\n",
        "plt.imshow(array)\n",
        "plt.colorbar()\n",
        "plt.show()"
      ],
      "metadata": {
        "id": "cociIBN1QShy"
      },
      "execution_count": null,
      "outputs": []
    },
    {
      "cell_type": "markdown",
      "source": [
        "# **Main function that finds the solution to the maze**"
      ],
      "metadata": {
        "id": "XTdum-WURoYV"
      }
    },
    {
      "cell_type": "code",
      "source": [
        "def frontier():\n",
        "  #First we need to get the position of our frontier, so we will call a function whose job is to get position of anything we ask\n",
        "  position = get_position(2) # in this case 2 is our frontier\n",
        "  \n",
        "  # Now we check if didn't get the error code while finding position\n",
        "  if position != 10:\n",
        "    while destination == False: # Meaning run the loop till we reach the end of our maze\n",
        "\n",
        "      # First we will look around frontier and gather the options availabe to him for that we will use another function which gathers options\n",
        "      # find_options will take the input as the row and column of our frontier\n",
        "      changing_position = get_position(2)\n",
        "      options_available = find_options(changing_position[0], changing_position[1])\n",
        "      \n",
        "      # Now there are 2 outcome number 1 we find any option and number 2 we dont find any options\n",
        "      if len(options_available) != 0:\n",
        "        # Now we will make a random choice by selecting a random direction \n",
        "        choice = random.choice(options_available)\n",
        "        \n",
        "        # Now we walk in the direction of choice we made by using another function\n",
        "        # The following function would want 2 variables, no1 the position of frontier and no2 the choice he has made\n",
        "        current_position = get_position(2)\n",
        "        walk(current_position, choice)\n",
        "        new_position = get_position(2)\n",
        "        end = check(new_position[0], new_position[1])\n",
        "        if end == True:\n",
        "          print(\"Destination Reached\")\n",
        "          break\n",
        "      \n",
        "      elif len(options_available) == 0:\n",
        "        # If we have no options left then we will first check if we have reached the destination or not and then restart the maze\n",
        "        current_position = get_position(2)\n",
        "        end = check(current_position[0], current_position[1])\n",
        "        if end == True:\n",
        "          maze[position[0]][position[1]] = 2\n",
        "        else:\n",
        "          print(\"Destination reached!\")\n",
        "          break\n",
        "\n",
        "      else:\n",
        "        print(\"Encountered error while looking for options\")\n",
        "\n",
        "\n",
        "  # If we got an error we will print the following output\n",
        "  else:\n",
        "    print(\"Couldn't find the object\")\n",
        "\n",
        "  return\n",
        "\n",
        "frontier()"
      ],
      "metadata": {
        "id": "pNQTAUIc-d-b"
      },
      "execution_count": null,
      "outputs": []
    },
    {
      "cell_type": "markdown",
      "source": [
        "# **Function that reads position of our frontier**"
      ],
      "metadata": {
        "id": "AYVVpTMrQrxc"
      }
    },
    {
      "cell_type": "code",
      "source": [
        "def get_position(n):\n",
        "  # We need to get in which row and column the object is...\n",
        "  row, col = 0, 0\n",
        "\n",
        "  # We loop through each and every column of the row\n",
        "  for rows in maze:\n",
        "    for column in rows:\n",
        "\n",
        "      # If we find our object we return its value\n",
        "      if column == n:\n",
        "        return [row, col]\n",
        "\n",
        "      # If the object is not in that column then we add 1 to it\n",
        "      else:\n",
        "        col += 1\n",
        "    \n",
        "    # We add 1 to row when we go to next row and make column 0 because each row has new columns\n",
        "    row += 1\n",
        "    col = 0\n",
        "\n",
        "    # 10 is an error code meaning we didn't find the object\n",
        "  return 10"
      ],
      "metadata": {
        "id": "nxmHBAzhQquK"
      },
      "execution_count": null,
      "outputs": []
    },
    {
      "cell_type": "markdown",
      "source": [
        "# **Function that find the available options**"
      ],
      "metadata": {
        "id": "TfwGFgeEQ6OA"
      }
    },
    {
      "cell_type": "code",
      "source": [
        "def find_options(row, col):\n",
        "  # This function will return a list of options available\n",
        "  options = []\n",
        "\n",
        "  # There are maximum of only 4 ways for our frontier to travel i.e. East, West, North, South\n",
        "  if maze[row - 1][col] == 1:\n",
        "    options.append(\"East\")\n",
        "  if maze[row + 1][col] == 1:\n",
        "    options.append(\"West\")\n",
        "  if maze[row][col - 1] == 1:\n",
        "    options.append(\"North\")\n",
        "  if maze[row][col + 1] == 1:\n",
        "    options.append(\"South\")\n",
        "\n",
        "  return options"
      ],
      "metadata": {
        "id": "jPfJqvlHQ7FG"
      },
      "execution_count": null,
      "outputs": []
    },
    {
      "cell_type": "markdown",
      "source": [
        "# **Function that checks if we reached our destination or not**"
      ],
      "metadata": {
        "id": "T7bMpfmURIU_"
      }
    },
    {
      "cell_type": "code",
      "source": [
        "def check(row, col):\n",
        "  global destination\n",
        "  destination = False\n",
        "\n",
        "  if maze[row - 1][col] == 3:\n",
        "    destination = True\n",
        "  if maze[row + 1][col] == 3:\n",
        "    destination = True\n",
        "  if maze[row][col - 1] == 3:\n",
        "    destination = True\n",
        "  if maze[row][col + 1] == 3:\n",
        "    destination = True\n",
        "  \n",
        "  return destination"
      ],
      "metadata": {
        "id": "87CP7M2yRHXC"
      },
      "execution_count": null,
      "outputs": []
    },
    {
      "cell_type": "markdown",
      "source": [
        "# **Function responsible for moving our frontier**"
      ],
      "metadata": {
        "id": "jsyzIKdgRTfW"
      }
    },
    {
      "cell_type": "code",
      "source": [
        "# pos is row and col of frontier\n",
        "def walk(pos, choice):\n",
        "  row, col = pos[0], pos[1]\n",
        "  # First we mark the steps of frontier and then move him and along with each step we see if we have reached our destination or not\n",
        "  maze[row][col] = 4\n",
        "\n",
        "  if choice == \"East\":\n",
        "    maze[row - 1][col] = 2\n",
        "  if choice == \"West\":\n",
        "    maze[row + 1][col] = 2\n",
        "  if choice == \"North\":\n",
        "    maze[row][col - 1] = 2\n",
        "  if choice == \"South\":\n",
        "    maze[row][col + 1] = 2\n",
        "    \n",
        "  return"
      ],
      "metadata": {
        "id": "qNJsurc2RSpQ"
      },
      "execution_count": null,
      "outputs": []
    }
  ]
}